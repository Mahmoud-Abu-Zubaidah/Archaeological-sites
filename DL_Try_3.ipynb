{
  "cells": [
    {
      "cell_type": "markdown",
      "metadata": {
        "id": "dMy87q6NSR5j"
      },
      "source": [
        "## Importing required libraries"
      ]
    },
    {
      "cell_type": "markdown",
      "source": [],
      "metadata": {
        "id": "4xToN-Ho7xDF"
      }
    },
    {
      "cell_type": "code",
      "source": [
        "from google.colab import drive\n",
        "drive.mount('/content/drive')"
      ],
      "metadata": {
        "colab": {
          "base_uri": "https://localhost:8080/"
        },
        "id": "H6vujgATCuLk",
        "outputId": "4a35a4b1-84b5-4533-eea6-dc3bf311a1f5"
      },
      "execution_count": null,
      "outputs": [
        {
          "output_type": "stream",
          "name": "stdout",
          "text": [
            "Mounted at /content/drive\n"
          ]
        }
      ]
    },
    {
      "cell_type": "code",
      "execution_count": null,
      "metadata": {
        "colab": {
          "base_uri": "https://localhost:8080/"
        },
        "id": "BoP7_cSgAwk_",
        "outputId": "ddbf39f1-3a8c-4133-ba74-7dcaf2e237ca"
      },
      "outputs": [
        {
          "output_type": "stream",
          "name": "stdout",
          "text": [
            "Sat Jan 27 16:54:01 2024       \n",
            "+---------------------------------------------------------------------------------------+\n",
            "| NVIDIA-SMI 535.104.05             Driver Version: 535.104.05   CUDA Version: 12.2     |\n",
            "|-----------------------------------------+----------------------+----------------------+\n",
            "| GPU  Name                 Persistence-M | Bus-Id        Disp.A | Volatile Uncorr. ECC |\n",
            "| Fan  Temp   Perf          Pwr:Usage/Cap |         Memory-Usage | GPU-Util  Compute M. |\n",
            "|                                         |                      |               MIG M. |\n",
            "|=========================================+======================+======================|\n",
            "|   0  Tesla T4                       Off | 00000000:00:04.0 Off |                    0 |\n",
            "| N/A   36C    P8               9W /  70W |      0MiB / 15360MiB |      0%      Default |\n",
            "|                                         |                      |                  N/A |\n",
            "+-----------------------------------------+----------------------+----------------------+\n",
            "                                                                                         \n",
            "+---------------------------------------------------------------------------------------+\n",
            "| Processes:                                                                            |\n",
            "|  GPU   GI   CI        PID   Type   Process name                            GPU Memory |\n",
            "|        ID   ID                                                             Usage      |\n",
            "|=======================================================================================|\n",
            "|  No running processes found                                                           |\n",
            "+---------------------------------------------------------------------------------------+\n"
          ]
        }
      ],
      "source": [
        "!nvidia-smi"
      ]
    },
    {
      "cell_type": "code",
      "execution_count": null,
      "metadata": {
        "id": "wjEfU32SSMSW"
      },
      "outputs": [],
      "source": [
        "import os\n",
        "from tqdm import tqdm\n",
        "import numpy as np\n",
        "import warnings\n",
        "warnings.filterwarnings('ignore')\n",
        "from tensorflow.keras.utils import load_img\n",
        "from tensorflow.keras.layers import Dense, Flatten,Dropout,ReLU,BatchNormalization,Softmax\n",
        "from tensorflow.keras.models import Model # Create a output sequence\n",
        "from tensorflow.keras.preprocessing.image import ImageDataGenerator # Augmantation\n",
        "from tensorflow.keras.applications.efficientnet import EfficientNetB7 #Make infrance from the model\n",
        "from tensorflow.keras.preprocessing import image\n",
        "# from keras.utils import plot_model  #Visualize Model\n",
        "from sklearn.preprocessing import LabelBinarizer\n",
        "from sklearn.model_selection import train_test_split\n",
        "from keras.optimizers import RMSprop,Adam\n",
        "from tensorflow.keras.utils import image_dataset_from_directory\n",
        "from tensorflow.keras.callbacks import ModelCheckpoint\n",
        "from tensorflow.keras.models import load_model"
      ]
    },
    {
      "cell_type": "code",
      "execution_count": null,
      "metadata": {
        "id": "5ATKbW5v1Z_h"
      },
      "outputs": [],
      "source": [
        "check = ModelCheckpoint(\n",
        "  '/content/drive/MyDrive/project deep 1/Models Weights/chrome model DL3 v2.h5',   verbose= 1,save_weights_only= False\n",
        ")"
      ]
    },
    {
      "cell_type": "code",
      "execution_count": null,
      "metadata": {
        "id": "wXI_yzhuZAiG"
      },
      "outputs": [],
      "source": [
        "augmenter = ImageDataGenerator(rotation_range=30, horizontal_flip=True,width_shift_range=0.1,\n",
        "                               height_shift_range=0.1,shear_range=0.2,zoom_range=0.2,fill_mode='nearest')"
      ]
    },
    {
      "cell_type": "code",
      "execution_count": null,
      "metadata": {
        "colab": {
          "base_uri": "https://localhost:8080/"
        },
        "id": "hoMU5Sh-ZAcZ",
        "outputId": "3afad361-5280-4740-a460-9b5dda8a6879"
      },
      "outputs": [
        {
          "output_type": "stream",
          "name": "stdout",
          "text": [
            "Found 3425 images belonging to 6 classes.\n"
          ]
        }
      ],
      "source": [
        "gen = augmenter.flow_from_directory('/content/drive/MyDrive/project deep 1/data',(255,255),\"rgb\")"
      ]
    },
    {
      "cell_type": "code",
      "execution_count": null,
      "metadata": {
        "id": "tgIS__WwEJIG",
        "colab": {
          "base_uri": "https://localhost:8080/"
        },
        "outputId": "592eaf3f-1150-4485-96e9-94832211e030"
      },
      "outputs": [
        {
          "output_type": "stream",
          "name": "stdout",
          "text": [
            "Downloading data from https://storage.googleapis.com/keras-applications/efficientnetb7_notop.h5\n",
            "258076736/258076736 [==============================] - 9s 0us/step\n"
          ]
        }
      ],
      "source": [
        "def build_network(base_model, classes):\n",
        "    \"\"\"\n",
        "    build a new network from a pre-trained model\n",
        "\n",
        "    parameters:\n",
        "        -base_model: pretraind model\n",
        "        -classes: number of classes to classify\n",
        "\n",
        "    \"\"\"\n",
        "    x = Flatten()(base_model.output)\n",
        "    x = Dense(units=255)(x)\n",
        "    x = ReLU()(x)\n",
        "    x = BatchNormalization()(x)\n",
        "    x = Dense(units=200)(x)\n",
        "    x = ReLU()(x)\n",
        "    x = Dropout(rate=0.5)(x)\n",
        "    x = Dense(units=classes)(x)\n",
        "    output = Softmax()(x)\n",
        "    return output\n",
        "\n",
        "\n",
        "def create_model(CLASSES,input_shape = (500,500,3)):\n",
        "  \"\"\"\n",
        "  Load the EfficientNetB7 models without the classifier part of the model.\n",
        "  Freeze all layers, and adding output layers and train it.\n",
        "\n",
        "  -------\n",
        "  param:\n",
        "    input_shape: image shape, It should have exactly 3 inputs channels.\n",
        "    num_classes: number of classes to classify\n",
        "  \"\"\"\n",
        "\n",
        "  # download the model and it's weights\n",
        "  base_model = EfficientNetB7(weights='imagenet',include_top=False,input_shape=input_shape)\n",
        "  # freeze layers\n",
        "  for layer in base_model.layers[:-10]:\n",
        "    layer.trainable = False\n",
        "\n",
        "  model = build_network(base_model, CLASSES)\n",
        "  model = Model(base_model.input, model)\n",
        "\n",
        "  return model\n",
        "\n",
        "model = create_model(6,(255,255,3))"
      ]
    },
    {
      "cell_type": "code",
      "source": [
        "# model = load_model('/content/drive/MyDrive/project deep 1/Models Weights/chrome model DL3.h5')"
      ],
      "metadata": {
        "id": "W0nw_Lc63-Fb"
      },
      "execution_count": null,
      "outputs": []
    },
    {
      "cell_type": "code",
      "execution_count": null,
      "metadata": {
        "id": "xiPtEHAWEJFd"
      },
      "outputs": [],
      "source": [
        "model.compile(loss='categorical_crossentropy',optimizer=Adam(learning_rate=1e-3),metrics=[\"accuracy\"])"
      ]
    },
    {
      "cell_type": "code",
      "execution_count": null,
      "metadata": {
        "colab": {
          "base_uri": "https://localhost:8080/"
        },
        "id": "0V_w-gsMFVm8",
        "outputId": "1a9e988f-2491-49cc-8c15-82a9d1ac2d77"
      },
      "outputs": [
        {
          "output_type": "stream",
          "name": "stdout",
          "text": [
            "Epoch 1/7\n",
            "64/64 [==============================] - ETA: 0s - loss: 0.3057 - accuracy: 0.8945 \n",
            "Epoch 1: saving model to /content/drive/MyDrive/project deep 1/Models Weights/chrome model DL3 v2.h5\n",
            "64/64 [==============================] - 1981s 31s/step - loss: 0.3057 - accuracy: 0.8945\n",
            "Epoch 2/7\n",
            " 7/64 [==>...........................] - ETA: 28:22 - loss: 0.3693 - accuracy: 0.8884"
          ]
        }
      ],
      "source": [
        "model.fit_generator(gen,64,7,callbacks=[check])"
      ]
    },
    {
      "cell_type": "code",
      "execution_count": null,
      "metadata": {
        "id": "YmLi7ti1FVgk"
      },
      "outputs": [],
      "source": [
        "model.save('chrome model #4.h5')"
      ]
    },
    {
      "cell_type": "code",
      "execution_count": null,
      "metadata": {
        "id": "-JHJj21Q1Z_j",
        "colab": {
          "base_uri": "https://localhost:8080/",
          "height": 451
        },
        "outputId": "db846fee-ce0f-454c-9921-93934cfcdf90"
      },
      "outputs": [
        {
          "output_type": "execute_result",
          "data": {
            "text/plain": [
              "<Axes: >"
            ]
          },
          "metadata": {},
          "execution_count": 15
        },
        {
          "output_type": "display_data",
          "data": {
            "text/plain": [
              "<Figure size 640x480 with 1 Axes>"
            ],
            "image/png": "[encoded data removed]"
          },
          "metadata": {}
        }
      ],
      "source": [
        "import pandas as pd\n",
        "pd.DataFrame(model.history.history).plot(kind='line')"
      ]
    }
  ],
  "metadata": {
    "colab": {
      "gpuType": "T4",
      "provenance": []
    },
    "kernelspec": {
      "display_name": "Python 3 (ipykernel)",
      "language": "python",
      "name": "python3"
    },
    "language_info": {
      "codemirror_mode": {
        "name": "ipython",
        "version": 3
      },
      "file_extension": ".py",
      "mimetype": "text/x-python",
      "name": "python",
      "nbconvert_exporter": "python",
      "pygments_lexer": "ipython3",
      "version": "3.11.7"
    }
  },
  "nbformat": 4,
  "nbformat_minor": 0
}